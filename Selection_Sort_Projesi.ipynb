{
 "cells": [
  {
   "cell_type": "markdown",
   "id": "4137fa94",
   "metadata": {},
   "source": [
    "## 1. Soru [22,27,16,2,18,6] -> Insertion Sort\n",
    "\n",
    "Adım [16,22,27*,2,18,6]\n",
    "Adım [2,16,22,27*,18,6]\n",
    "Adım [2,16,18,22,27*,6]\n",
    "Adım [2,6,16,18,22,27*]\n",
    "\n",
    "## 2. Soru Big-O ->\n",
    "n+(n-1)+(n-2)+(n-3)+(n-4)+1= (n(n+1))/2= n^2 Big-O = n^2\n",
    "\n",
    "## 3.Soru Time Complexity: Dizi sıralandıktan sonra 18 sayısı aşağıdaki case'lerden hangisinin kapsamına girer?\n",
    "\n",
    "Aradığımız sayı dizinin ortasında. Average case.\n",
    "\n",
    "## 4. Soru [7,3,5,8,2,9,4,15,6] dizisinin Selection Sort'a göre ilk 4 adımını yazınız.\n",
    "\n",
    "[7,3,5,8,2,9,4,15,6] -> [2*,3,5,8,7*,9,4,15,6] -> [2,3,5,8,7,9,4,15,6] -> [2,3,4*,8,7,9,5*,15,6] -> [2,3,4,5*,7,9,8*,15,6]"
   ]
  },
  {
   "cell_type": "code",
   "execution_count": null,
   "id": "971f811e",
   "metadata": {},
   "outputs": [],
   "source": []
  }
 ],
 "metadata": {
  "kernelspec": {
   "display_name": "Python 3 (ipykernel)",
   "language": "python",
   "name": "python3"
  },
  "language_info": {
   "codemirror_mode": {
    "name": "ipython",
    "version": 3
   },
   "file_extension": ".py",
   "mimetype": "text/x-python",
   "name": "python",
   "nbconvert_exporter": "python",
   "pygments_lexer": "ipython3",
   "version": "3.11.3"
  }
 },
 "nbformat": 4,
 "nbformat_minor": 5
}
