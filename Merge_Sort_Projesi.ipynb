{
 "cells": [
  {
   "cell_type": "markdown",
   "id": "b0224101",
   "metadata": {},
   "source": [
    "## Merge Sort Projesi  \n",
    "\n",
    "[16,21,11,8,12,22] -> Merge Sort\n",
    "\n",
    "Yukarıdaki dizinin sort türüne göre aşamalarını yazıyoruz. Big-O gösterimini yazıyoruz\n",
    "\n",
    "### [16,21,11,8,12,22] -> Merge Sort\n",
    "\n",
    "####        [16,21,11,8,12,22]\n",
    "[16,21,11]                            [8,12,22]\n",
    "\n",
    "[16,21]   [11]              |           [8,12]   [22]\n",
    "\n",
    "[16]   [21]   [11]          |           [8]   [12]   [22]  \n",
    "\n",
    "[16,21]   [11]              |           [8,12]   [22]\n",
    "\n",
    "[11,16,21]                  |           [8,12,22]\n",
    "\n",
    "####        [8,11,12,16,21,22]\n",
    "\n",
    "## Big-O\n",
    "\n",
    "O(n*logn)"
   ]
  },
  {
   "cell_type": "code",
   "execution_count": null,
   "id": "f2c1cc80",
   "metadata": {},
   "outputs": [],
   "source": []
  }
 ],
 "metadata": {
  "kernelspec": {
   "display_name": "Python 3 (ipykernel)",
   "language": "python",
   "name": "python3"
  },
  "language_info": {
   "codemirror_mode": {
    "name": "ipython",
    "version": 3
   },
   "file_extension": ".py",
   "mimetype": "text/x-python",
   "name": "python",
   "nbconvert_exporter": "python",
   "pygments_lexer": "ipython3",
   "version": "3.11.3"
  }
 },
 "nbformat": 4,
 "nbformat_minor": 5
}
