{
 "cells": [
  {
   "cell_type": "markdown",
   "id": "e240ac9a",
   "metadata": {},
   "source": [
    "### [7, 5, 1, 8, 3, 6, 0, 9, 4, 2] dizisinin Binary-Search-Tree aşamalarını yazınız.\n",
    "\n",
    "#### root 7'dir.\n",
    "\n",
    "5 -> Root düğümün solunda yer alır. 1 -> 5'in solunda yer alır. 8 -> Root düğümün sağına eklenir. 3 -> 5'in solunda yer alır. 6 -> 5'in sağına eklenir. 0 -> 1'in solunda yer alır. 9 -> 8'in sağına eklenir. 4 -> 3'ün sağına eklenir. 2 -> 1'in sağına eklenir.\n",
    "\n",
    "          7\n",
    "         / \\\n",
    "        5   8\n",
    "       / \\   \\\n",
    "      1   6   9\n",
    "    \n",
    "    /\n",
    "    \n",
    " 0 _ 3\n",
    "      \n",
    "       \\\n",
    "       \n",
    "       2 _ 4     \n",
    "       "
   ]
  },
  {
   "cell_type": "code",
   "execution_count": null,
   "id": "5082884b",
   "metadata": {},
   "outputs": [],
   "source": []
  }
 ],
 "metadata": {
  "kernelspec": {
   "display_name": "Python 3 (ipykernel)",
   "language": "python",
   "name": "python3"
  },
  "language_info": {
   "codemirror_mode": {
    "name": "ipython",
    "version": 3
   },
   "file_extension": ".py",
   "mimetype": "text/x-python",
   "name": "python",
   "nbconvert_exporter": "python",
   "pygments_lexer": "ipython3",
   "version": "3.11.3"
  }
 },
 "nbformat": 4,
 "nbformat_minor": 5
}
